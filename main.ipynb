{
 "cells": [
  {
   "cell_type": "markdown",
   "id": "d1243d35",
   "metadata": {},
   "source": [
    "## AI tool for Akaraka\n",
    "The coding below is the main coding part to develop a AI/Machine Learning model for Akaraka users' to classify the intent;  \n",
    "\n",
    "The whole development will include:  \n",
    "\n",
    "    1. Train a model to classify the intent (Key delivery: when user input a setence, the model will identify the intent; the accuracy upto 95% when possible)  \n",
    "\n",
    "    2. Once the intent is indenfied, the system will give the feedback"
   ]
  },
  {
   "cell_type": "markdown",
   "id": "bd615c86",
   "metadata": {},
   "source": [
    "### 1. Load the dataset"
   ]
  },
  {
   "cell_type": "code",
   "execution_count": 3,
   "id": "aad38976",
   "metadata": {},
   "outputs": [],
   "source": [
    "#import neccessary libraries\n",
    "import os\n",
    "import numpy as np\n",
    "import pandas as pd\n",
    "import seaborn as sns\n",
    "\n",
    "%matplotlib inline\n",
    "import matplotlib.pyplot as plt"
   ]
  },
  {
   "cell_type": "code",
   "execution_count": 5,
   "id": "faff1a8f",
   "metadata": {},
   "outputs": [
    {
     "data": {
      "text/html": [
       "<div>\n",
       "<style scoped>\n",
       "    .dataframe tbody tr th:only-of-type {\n",
       "        vertical-align: middle;\n",
       "    }\n",
       "\n",
       "    .dataframe tbody tr th {\n",
       "        vertical-align: top;\n",
       "    }\n",
       "\n",
       "    .dataframe thead th {\n",
       "        text-align: right;\n",
       "    }\n",
       "</style>\n",
       "<table border=\"1\" class=\"dataframe\">\n",
       "  <thead>\n",
       "    <tr style=\"text-align: right;\">\n",
       "      <th></th>\n",
       "      <th>#</th>\n",
       "      <th>Setence</th>\n",
       "      <th>Intent</th>\n",
       "    </tr>\n",
       "  </thead>\n",
       "  <tbody>\n",
       "    <tr>\n",
       "      <th>0</th>\n",
       "      <td>1</td>\n",
       "      <td>I want to post the assessment brief.</td>\n",
       "      <td>Post assessment brief</td>\n",
       "    </tr>\n",
       "    <tr>\n",
       "      <th>1</th>\n",
       "      <td>2</td>\n",
       "      <td>I need to upload the assignment details.</td>\n",
       "      <td>Post assessment brief</td>\n",
       "    </tr>\n",
       "    <tr>\n",
       "      <th>2</th>\n",
       "      <td>3</td>\n",
       "      <td>Show me how to post the assignment brief.</td>\n",
       "      <td>Post assessment brief</td>\n",
       "    </tr>\n",
       "    <tr>\n",
       "      <th>3</th>\n",
       "      <td>4</td>\n",
       "      <td>I want to create an assignment brief for stude...</td>\n",
       "      <td>Post assessment brief</td>\n",
       "    </tr>\n",
       "    <tr>\n",
       "      <th>4</th>\n",
       "      <td>5</td>\n",
       "      <td>Where can I upload the assessment information?</td>\n",
       "      <td>Post assessment brief</td>\n",
       "    </tr>\n",
       "  </tbody>\n",
       "</table>\n",
       "</div>"
      ],
      "text/plain": [
       "   #                                            Setence                 Intent\n",
       "0  1               I want to post the assessment brief.  Post assessment brief\n",
       "1  2           I need to upload the assignment details.  Post assessment brief\n",
       "2  3          Show me how to post the assignment brief.  Post assessment brief\n",
       "3  4  I want to create an assignment brief for stude...  Post assessment brief\n",
       "4  5     Where can I upload the assessment information?  Post assessment brief"
      ]
     },
     "execution_count": 5,
     "metadata": {},
     "output_type": "execute_result"
    }
   ],
   "source": [
    "#import data set \n",
    "path = \"assessment.csv\"\n",
    "df = pd.read_csv(path)\n",
    "\n",
    "df.head()"
   ]
  },
  {
   "cell_type": "markdown",
   "id": "83a2fcfe",
   "metadata": {},
   "source": [
    "### 2. Pre-process and clean data "
   ]
  }
 ],
 "metadata": {
  "kernelspec": {
   "display_name": "Python 3",
   "language": "python",
   "name": "python3"
  },
  "language_info": {
   "codemirror_mode": {
    "name": "ipython",
    "version": 3
   },
   "file_extension": ".py",
   "mimetype": "text/x-python",
   "name": "python",
   "nbconvert_exporter": "python",
   "pygments_lexer": "ipython3",
   "version": "3.12.10"
  }
 },
 "nbformat": 4,
 "nbformat_minor": 5
}
